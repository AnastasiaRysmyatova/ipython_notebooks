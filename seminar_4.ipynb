{
 "cells": [
  {
   "cell_type": "code",
   "execution_count": 21,
   "metadata": {
    "collapsed": true
   },
   "outputs": [],
   "source": [
    "import pandas as pd"
   ]
  },
  {
   "cell_type": "markdown",
   "metadata": {},
   "source": [
    "## Pandas"
   ]
  },
  {
   "cell_type": "code",
   "execution_count": 22,
   "metadata": {
    "collapsed": true
   },
   "outputs": [],
   "source": [
    "Data = pd.read_excel('data.xlsx', encoding = 'utf-8' )"
   ]
  },
  {
   "cell_type": "code",
   "execution_count": 23,
   "metadata": {
    "collapsed": false
   },
   "outputs": [],
   "source": [
    "Data.drop([u'Фамилия Имя Отчество', \n",
    "           u'E-mail адрес', \n",
    "           u'Ссылка на личный вебсайт',\n",
    "           u'Ссылка на профиль в LinkedIn', \n",
    "           u'Ссылка на страницу в Facebook', \n",
    "           u'Согласие на обработку данных',\n",
    "           u'Группа',\n",
    "           u'Факультет',\n",
    "           u'Есть ли у вас научные публикации / доклады?',\n",
    "           'Timestamp' ], axis = 1, inplace = True)"
   ]
  },
  {
   "cell_type": "markdown",
   "metadata": {},
   "source": [
    "1. Выясните сколько людей ответило верно на вопрос 'Сколько листьев имеет полное двоичное дерево высоты 3?'\n",
    "2. Замените пропуски в признаке 'GPA (Средний балл)' на среднее значение данного признака.\n",
    "3. Извлеките из признака 'Дата рождения' день, месяц, год рождения. \n",
    "4. Вычислите средний балл студентов родившихся зимой.\n",
    "5. Постройте гистограмму распределения признака 'Какой ваш уровень владения английским языком?'\n",
    "\n"
   ]
  },
  {
   "cell_type": "markdown",
   "metadata": {},
   "source": [
    "#### 1. (0.5 балла) Выясните сколько людей ответило верно на вопрос 'Сколько листьев имеет полное двоичное дерево высоты 3?'"
   ]
  },
  {
   "cell_type": "code",
   "execution_count": 24,
   "metadata": {
    "collapsed": false
   },
   "outputs": [
    {
     "data": {
      "text/plain": [
       "81"
      ]
     },
     "execution_count": 24,
     "metadata": {},
     "output_type": "execute_result"
    }
   ],
   "source": [
    "(Data[u'Сколько листьев имеет полное двоичное дерево высоты 3?']==8).sum()"
   ]
  },
  {
   "cell_type": "markdown",
   "metadata": {},
   "source": [
    "#### 2. (0.5 балла) Замените пропуски в признаке 'GPA (Средний балл)' на среднее значение данного признака."
   ]
  },
  {
   "cell_type": "code",
   "execution_count": 25,
   "metadata": {
    "collapsed": false
   },
   "outputs": [],
   "source": [
    "Data.loc[Data[u'GPA (Средний балл)'].isnull(), u'GPA (Средний балл)'] = Data[u'GPA (Средний балл)'].mean()"
   ]
  },
  {
   "cell_type": "markdown",
   "metadata": {},
   "source": [
    "#### 3. (1 балл) Извлеките из признака 'Дата рождения' день, месяц, год рождения. Добавьте три новых соответствующих признака и удалите признак   'Дата рождения'"
   ]
  },
  {
   "cell_type": "code",
   "execution_count": 26,
   "metadata": {
    "collapsed": false
   },
   "outputs": [],
   "source": [
    "Data[u'Год рождения'] = Data[u'Дата рождения'].dt.year\n",
    "Data[u'Месяц рождения'] = Data[u'Дата рождения'].dt.month\n",
    "Data[u'День рождения'] = Data[u'Дата рождения'].dt.day\n",
    "Data.drop([u'Дата рождения'], axis = 1, inplace = True)\n",
    "\n"
   ]
  },
  {
   "cell_type": "markdown",
   "metadata": {},
   "source": [
    "#### 4. (0.5 балла)Вычислите средний балл студентов родившихся зимой."
   ]
  },
  {
   "cell_type": "code",
   "execution_count": 27,
   "metadata": {
    "collapsed": false
   },
   "outputs": [
    {
     "data": {
      "text/plain": [
       "7.573913265306123"
      ]
     },
     "execution_count": 27,
     "metadata": {},
     "output_type": "execute_result"
    }
   ],
   "source": [
    "Data.loc[((Data[u'Месяц рождения']>11) | (Data[u'Месяц рождения']<3)) \\\n",
    "         & (Data[u'Роль на курсе'] == u'Студент'), u'GPA (Средний балл)'].mean()"
   ]
  },
  {
   "cell_type": "markdown",
   "metadata": {},
   "source": [
    "#### 5. (0.5 балла)Постройте гистограмму распределения признака 'Какой ваш уровень владения английским языком?'"
   ]
  },
  {
   "cell_type": "code",
   "execution_count": 28,
   "metadata": {
    "collapsed": false,
    "scrolled": true
   },
   "outputs": [
    {
     "data": {
      "text/plain": [
       "<matplotlib.axes._subplots.AxesSubplot at 0x106bd3b10>"
      ]
     },
     "execution_count": 28,
     "metadata": {},
     "output_type": "execute_result"
    },
    {
     "data": {
      "image/png": "[encoded data removed]",
      "text/plain": [
       "<matplotlib.figure.Figure at 0x106b34990>"
      ]
     },
     "metadata": {},
     "output_type": "display_data"
    }
   ],
   "source": [
    "%matplotlib inline\n",
    "import matplotlib.pyplot as plt\n",
    "A = Data[u'Какой ваш уровень владения английским языком?'].dropna()\n",
    "\n",
    "A.value_counts().plot(kind=\"bar\")"
   ]
  },
  {
   "cell_type": "markdown",
   "metadata": {
    "collapsed": true
   },
   "source": [
    "## NumPy"
   ]
  },
  {
   "cell_type": "code",
   "execution_count": 29,
   "metadata": {
    "collapsed": true
   },
   "outputs": [],
   "source": [
    "import numpy as np"
   ]
  },
  {
   "cell_type": "markdown",
   "metadata": {},
   "source": [
    "#### 1. (1 балл)  Дан двумерный массив размера m x n. Определить одинакова ли сумма элементов во всех строках и столбцах.\n"
   ]
  },
  {
   "cell_type": "code",
   "execution_count": 35,
   "metadata": {
    "collapsed": true
   },
   "outputs": [],
   "source": [
    "def sum_elem(A):\n",
    "    s1 = A.sum(axis = 1)\n",
    "    s2 = A.sum(axis = 0)\n",
    "    return np.all (s2 == s1[0]) & np.all (s1 == s2[0]) "
   ]
  },
  {
   "cell_type": "code",
   "execution_count": 36,
   "metadata": {
    "collapsed": false
   },
   "outputs": [
    {
     "data": {
      "text/plain": [
       "True"
      ]
     },
     "execution_count": 36,
     "metadata": {},
     "output_type": "execute_result"
    }
   ],
   "source": [
    "A = np.array([[1,2,1], [2,1,1] , [1,1,2]])\n",
    "sum_elem(A)"
   ]
  },
  {
   "cell_type": "markdown",
   "metadata": {},
   "source": [
    "#### 3. (1 балл) Даны матрица $А = (a)_{i,j}$ и матрица $В = (b)_{i,j}$ размера n x n. Найти матрицу  $С = (c)_{i,j}$ такую, что ее элементы $c_{i,j} = a_{i,j}^2*b_{j,i} + a_{i,i}*b_{j,j}$"
   ]
  },
  {
   "cell_type": "code",
   "execution_count": 37,
   "metadata": {
    "collapsed": true
   },
   "outputs": [],
   "source": [
    "def matr_C(A, B):\n",
    "    prod = np.dot(np.diag(A).reshape(A.shape[0], 1), np.diag(B).reshape(1, B.shape[0]))\n",
    "    \n",
    "    return A**2 * B.transpose() + prod"
   ]
  },
  {
   "cell_type": "code",
   "execution_count": 33,
   "metadata": {
    "collapsed": true
   },
   "outputs": [],
   "source": [
    "A = np.array([[1,2,1], \n",
    "              [2,1,1], \n",
    "              [1,1,2]])\n",
    "\n",
    "B = np.array([[2,1, 1], \n",
    "              [2,1,1], \n",
    "              [1,1,2]])"
   ]
  },
  {
   "cell_type": "code",
   "execution_count": 34,
   "metadata": {
    "collapsed": false
   },
   "outputs": [
    {
     "data": {
      "text/plain": [
       "array([[ 4,  9,  3],\n",
       "       [ 6,  2,  3],\n",
       "       [ 5,  3, 12]])"
      ]
     },
     "execution_count": 34,
     "metadata": {},
     "output_type": "execute_result"
    }
   ],
   "source": [
    "matr_C(A, B)"
   ]
  },
  {
   "cell_type": "code",
   "execution_count": null,
   "metadata": {
    "collapsed": true
   },
   "outputs": [],
   "source": []
  }
 ],
 "metadata": {
  "kernelspec": {
   "display_name": "Python 2",
   "language": "python",
   "name": "python2"
  },
  "language_info": {
   "codemirror_mode": {
    "name": "ipython",
    "version": 2
   },
   "file_extension": ".py",
   "mimetype": "text/x-python",
   "name": "python",
   "nbconvert_exporter": "python",
   "pygments_lexer": "ipython2",
   "version": "2.7.10"
  }
 },
 "nbformat": 4,
 "nbformat_minor": 0
}
